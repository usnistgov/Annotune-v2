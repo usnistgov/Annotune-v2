{
 "cells": [
  {
   "cell_type": "code",
   "execution_count": 42,
   "metadata": {},
   "outputs": [],
   "source": [
    "url =  \"http://127.0.0.1:1234/\""
   ]
  },
  {
   "cell_type": "code",
   "execution_count": 7,
   "metadata": {},
   "outputs": [],
   "source": [
    "import requests\n",
    "create_user = url+\"/create_user\"\n",
    "\n",
    "ret = requests.get(create_user)"
   ]
  },
  {
   "cell_type": "code",
   "execution_count": 9,
   "metadata": {},
   "outputs": [
    {
     "data": {
      "text/plain": [
       "{'code': 200, 'msg': 'User created', 'user_id': 47}"
      ]
     },
     "execution_count": 9,
     "metadata": {},
     "output_type": "execute_result"
    }
   ],
   "source": [
    "ret.json()"
   ]
  },
  {
   "cell_type": "code",
   "execution_count": 12,
   "metadata": {},
   "outputs": [],
   "source": [
    "first = requests.get(url+\"/get_recommended_document\")"
   ]
  },
  {
   "cell_type": "code",
   "execution_count": 30,
   "metadata": {},
   "outputs": [],
   "source": [
    "get_topic_list = url + \"get_topic_list\" \n",
    "\n",
    "topics = requests.post(get_topic_list, json={\n",
    "                            \"user_id\": 47,\n",
    "                            }).json()"
   ]
  },
  {
   "cell_type": "code",
   "execution_count": 31,
   "metadata": {},
   "outputs": [
    {
     "data": {
      "text/plain": [
       "{'cluster': {'0': [0, 1, 2, 3, 4, 5],\n",
       "  '1': [6, 7, 8, 9, 10],\n",
       "  '2': [11, 12, 13, 14, 15],\n",
       "  '3': [16, 17, 18, 19, 20],\n",
       "  '4': [21, 22, 23, 24, 25],\n",
       "  '5': [26, 27, 28, 29, 30]},\n",
       " 'code': 200,\n",
       " 'document_id': 25,\n",
       " 'keywords': {'0': ['trade', 'country', 'export', 'foreign', 'cuba'],\n",
       "  '1': ['budget', 'congress', 'agency', 'congressional', 'president'],\n",
       "  '2': ['social', 'benefit', 'individual', 'disability', 'insurance'],\n",
       "  '3': ['school', 'education', 'student', 'grant', 'secondary'],\n",
       "  '4': ['land', 'convey', 'conveyance', 'parcel', 'interior'],\n",
       "  '5': ['disease', 'research', 'prevention', 'human', 'cancer']},\n",
       " 'msg': 'SUCCESS'}"
      ]
     },
     "execution_count": 31,
     "metadata": {},
     "output_type": "execute_result"
    }
   ],
   "source": [
    "topics"
   ]
  },
  {
   "cell_type": "code",
   "execution_count": 32,
   "metadata": {},
   "outputs": [],
   "source": [
    "def get_recommended_topic(recommended, topics, all_texts):\n",
    "    \"\"\"\n",
    "    Retrieve recommended topic and associated documents from a topic-clustered dataset.\n",
    "\n",
    "    Parameters:\n",
    "    - recommended (str): The recommended topic to retrieve.\n",
    "    - topics (dict): A dictionary containing clustered topics and associated document lists.\n",
    "    - all_texts (dict): A dictionary containing text data where keys are document IDs and values are corresponding documents.\n",
    "\n",
    "    Returns:\n",
    "    - recommended_topic (str): The recommended topic.\n",
    "    - results (dict): A dictionary containing text data for documents associated with the recommended topic.\n",
    "\n",
    "    This function takes a 'recommended' topic, a 'topics' dictionary that includes clustered topics and associated document lists,\n",
    "    and a 'all_texts' dictionary containing document text data. It retrieves text data for documents associated with the specified\n",
    "    recommended topic.\n",
    "\n",
    "    The function returns 'recommended_topic,' the name of the recommended topic, and 'results,' a dictionary where each key represents\n",
    "    a the document IDs of documents within the recommended topic, and the associated value is a sub-dictionary containing document IDs and their corresponding texts.\n",
    "    \"\"\"\n",
    "\n",
    "    results = {}\n",
    "    for a in topics[\"cluster\"].keys():\n",
    "        sub_results = {}\n",
    "        for b in topics[\"cluster\"][a]:\n",
    "            if b == recommended:\n",
    "                for c in topics[\"cluster\"][a]:\n",
    "                    sub_results[str(c)] = all_texts[\"text\"][str(c)]\n",
    "                results[a] = sub_results\n",
    "                recommended_topic = a\n",
    "    return recommended_topic,  results\n"
   ]
  },
  {
   "cell_type": "code",
   "execution_count": 33,
   "metadata": {},
   "outputs": [],
   "source": [
    "recommended = int(topics[\"document_id\"])"
   ]
  },
  {
   "cell_type": "code",
   "execution_count": null,
   "metadata": {},
   "outputs": [],
   "source": [
    "import json"
   ]
  },
  {
   "cell_type": "code",
   "execution_count": 39,
   "metadata": {},
   "outputs": [],
   "source": [
    "all_texts = json.load(open(\"/Users/danielstephens/Desktop/communityv2/annotation/myapp/congressional_bill_train.json\"))\n",
    "\n",
    "document_id=5\n",
    "user_id=47"
   ]
  },
  {
   "cell_type": "code",
   "execution_count": 43,
   "metadata": {},
   "outputs": [],
   "source": [
    "get_document_information = url + \"get_document_information\"\n",
    "response = requests.post(get_document_information, json={ \"document_id\": document_id,\n",
    "                                                        \"user_id\":user_id\n",
    "                                                         }).json()\n",
    "text = all_texts[\"text\"][str(document_id)]"
   ]
  },
  {
   "cell_type": "code",
   "execution_count": 47,
   "metadata": {},
   "outputs": [
    {
     "data": {
      "text/plain": [
       "{'code': 200,\n",
       " 'confident': False,\n",
       " 'description': 'test description 22',\n",
       " 'llm_labels': ['ecudation', 'agriculture', 'energy', 'labor'],\n",
       " 'msg': 'SUCCESS',\n",
       " 'topic_order': {'0': ['trade', 'country', 'export', 'foreign', 'cuba'],\n",
       "  '1': ['budget', 'congress', 'agency', 'congressional', 'president'],\n",
       "  '2': ['social', 'benefit', 'individual', 'disability', 'insurance'],\n",
       "  '3': ['school', 'education', 'student', 'grant', 'secondary'],\n",
       "  '4': ['land', 'convey', 'conveyance', 'parcel', 'interior'],\n",
       "  '5': ['disease', 'research', 'prevention', 'human', 'cancer']}}"
      ]
     },
     "execution_count": 47,
     "metadata": {},
     "output_type": "execute_result"
    }
   ],
   "source": [
    "response"
   ]
  },
  {
   "cell_type": "code",
   "execution_count": null,
   "metadata": {},
   "outputs": [],
   "source": [
    "recommended = int(topics[\"document_id\"])"
   ]
  },
  {
   "cell_type": "code",
   "execution_count": 35,
   "metadata": {},
   "outputs": [],
   "source": [
    "import json\n",
    "all_texts = json.load(open(\"/Users/danielstephens/Desktop/Annotune-v2/annotune/annotator/congressional_bill_train.json\"))"
   ]
  },
  {
   "cell_type": "code",
   "execution_count": 36,
   "metadata": {},
   "outputs": [],
   "source": [
    "recommended_topic, recommended_block = get_recommended_topic(recommended, topics, all_texts)"
   ]
  },
  {
   "cell_type": "code",
   "execution_count": 38,
   "metadata": {},
   "outputs": [
    {
     "data": {
      "text/plain": [
       "{'4': {'21': 'To amend and reauthorize the Endangered Species Act of 1973 to provide greater results conserving and recovering listed species, and for other purposes.',\n",
       "  '22': 'To authorize attendance of civilians at schools conducted by the Department of Defense and the Department of the Treasury, and for other purposes',\n",
       "  '23': 'A bill to amend section 11(p) (1) of the Federal Water Pollution Control Act to provide enforcement provisions with respect to the obligations of certain vessels using the navigable waters of the United States, and for other purposes',\n",
       "  '24': 'A bill to strengthen democratic processes within labor organizations and to protect union members against unjustifiable pay losses in strikes through providing for impartial secret strike ballots.',\n",
       "  '25': 'A bill to amend the Federal law relating to the care and treatment of animals, to broaden the categories of persons regulated under such law, to assure that birds in pet stores and zoos are protected, and to increased protection for animals in transit'}}"
      ]
     },
     "execution_count": 38,
     "metadata": {},
     "output_type": "execute_result"
    }
   ],
   "source": [
    "recommended_block"
   ]
  },
  {
   "cell_type": "code",
   "execution_count": 21,
   "metadata": {},
   "outputs": [],
   "source": [
    "data = {\n",
    "    \"document_id\":int(24),\n",
    "    \"label\":str(\"null label\"),\n",
    "    \"user_id\": int(47),\n",
    "    \"response_time\": \"2:03:0\",\n",
    "    \"description\": \"Describe the thingy\"\n",
    "}"
   ]
  },
  {
   "cell_type": "code",
   "execution_count": 27,
   "metadata": {},
   "outputs": [],
   "source": [
    "going = requests.post(url+\"/recommend_document\", json=data)"
   ]
  },
  {
   "cell_type": "code",
   "execution_count": 29,
   "metadata": {},
   "outputs": [
    {
     "data": {
      "text/plain": [
       "{'code': 200, 'document_id': 5, 'msg': 'SUCCESS'}"
      ]
     },
     "execution_count": 29,
     "metadata": {},
     "output_type": "execute_result"
    }
   ],
   "source": [
    "going.json()"
   ]
  },
  {
   "cell_type": "code",
   "execution_count": null,
   "metadata": {},
   "outputs": [],
   "source": []
  }
 ],
 "metadata": {
  "kernelspec": {
   "display_name": "project",
   "language": "python",
   "name": "python3"
  },
  "language_info": {
   "codemirror_mode": {
    "name": "ipython",
    "version": 3
   },
   "file_extension": ".py",
   "mimetype": "text/x-python",
   "name": "python",
   "nbconvert_exporter": "python",
   "pygments_lexer": "ipython3",
   "version": "3.10.11"
  },
  "orig_nbformat": 4
 },
 "nbformat": 4,
 "nbformat_minor": 2
}
