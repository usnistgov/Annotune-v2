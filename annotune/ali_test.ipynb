{
 "cells": [
  {
   "cell_type": "code",
   "execution_count": 33,
   "metadata": {},
   "outputs": [],
   "source": [
    "url =  \"http://127.0.0.1:1234/\""
   ]
  },
  {
   "cell_type": "code",
   "execution_count": 32,
   "metadata": {},
   "outputs": [],
   "source": [
    "import requests\n",
    "create_user = url+\"/create_user\"\n",
    "\n",
    "ret = requests.post(create_user)"
   ]
  },
  {
   "cell_type": "code",
   "execution_count": 25,
   "metadata": {},
   "outputs": [
    {
     "data": {
      "text/plain": [
       "{'code': 200, 'msg': 'User created', 'user_id': 3}"
      ]
     },
     "execution_count": 25,
     "metadata": {},
     "output_type": "execute_result"
    }
   ],
   "source": [
    "ret.json()"
   ]
  },
  {
   "cell_type": "code",
   "execution_count": 44,
   "metadata": {},
   "outputs": [],
   "source": [
    "first = requests.post(url+\"/display\", json={\n",
    "    \"user_id\":0\n",
    "}).json()"
   ]
  },
  {
   "cell_type": "code",
   "execution_count": 50,
   "metadata": {},
   "outputs": [],
   "source": [
    "def flatten_extend(matrix):\n",
    "    flat_list = []\n",
    "    for row in matrix:\n",
    "         flat_list.extend(row)\n",
    "    return flat_list"
   ]
  },
  {
   "cell_type": "code",
   "execution_count": 58,
   "metadata": {},
   "outputs": [
    {
     "data": {
      "text/plain": [
       "[13,\n",
       " 14,\n",
       " 15,\n",
       " 16,\n",
       " 17,\n",
       " 18,\n",
       " 19,\n",
       " 20,\n",
       " 21,\n",
       " 22,\n",
       " 23,\n",
       " 24,\n",
       " 25,\n",
       " 26,\n",
       " 27,\n",
       " 28,\n",
       " 29,\n",
       " 1,\n",
       " 2,\n",
       " 3,\n",
       " 4,\n",
       " 5,\n",
       " 6,\n",
       " 7,\n",
       " 8,\n",
       " 9,\n",
       " 10,\n",
       " 11,\n",
       " 12]"
      ]
     },
     "execution_count": 58,
     "metadata": {},
     "output_type": "execute_result"
    }
   ],
   "source": [
    "all_items = []\n",
    "for id, items in response.items():\n",
    "    all_items.append(flatten_extend(items))\n",
    "flatten_extend(all_items)"
   ]
  },
  {
   "cell_type": "markdown",
   "metadata": {},
   "source": []
  },
  {
   "cell_type": "code",
   "execution_count": 56,
   "metadata": {},
   "outputs": [
    {
     "data": {
      "text/plain": [
       "[13, 14, 15, 16, 17, 18, 19, 20, 21, 22, 23, 24, 25]"
      ]
     },
     "execution_count": 56,
     "metadata": {},
     "output_type": "execute_result"
    }
   ],
   "source": [
    "flatten_extend (first[\"education\"])"
   ]
  },
  {
   "cell_type": "code",
   "execution_count": null,
   "metadata": {},
   "outputs": [],
   "source": []
  },
  {
   "cell_type": "code",
   "execution_count": 46,
   "metadata": {},
   "outputs": [
    {
     "data": {
      "text/plain": [
       "[13, 14, 15, 16, 17, 18, 19, 20, 21, 22, 23, 24, 25]"
      ]
     },
     "execution_count": 46,
     "metadata": {},
     "output_type": "execute_result"
    }
   ],
   "source": [
    "[[13, 14, 15, 16, 17, 18, 19, 20, 21, 22, 23, 24, 25]][0]"
   ]
  },
  {
   "cell_type": "code",
   "execution_count": 40,
   "metadata": {},
   "outputs": [
    {
     "ename": "JSONDecodeError",
     "evalue": "Expecting value: line 1 column 1 (char 0)",
     "output_type": "error",
     "traceback": [
      "\u001b[0;31m---------------------------------------------------------------------------\u001b[0m",
      "\u001b[0;31mJSONDecodeError\u001b[0m                           Traceback (most recent call last)",
      "File \u001b[0;32m~/Desktop/Annotune-v2/project/lib/python3.10/site-packages/requests/models.py:971\u001b[0m, in \u001b[0;36mResponse.json\u001b[0;34m(self, **kwargs)\u001b[0m\n\u001b[1;32m    970\u001b[0m \u001b[39mtry\u001b[39;00m:\n\u001b[0;32m--> 971\u001b[0m     \u001b[39mreturn\u001b[39;00m complexjson\u001b[39m.\u001b[39;49mloads(\u001b[39mself\u001b[39;49m\u001b[39m.\u001b[39;49mtext, \u001b[39m*\u001b[39;49m\u001b[39m*\u001b[39;49mkwargs)\n\u001b[1;32m    972\u001b[0m \u001b[39mexcept\u001b[39;00m JSONDecodeError \u001b[39mas\u001b[39;00m e:\n\u001b[1;32m    973\u001b[0m     \u001b[39m# Catch JSON-related errors and raise as requests.JSONDecodeError\u001b[39;00m\n\u001b[1;32m    974\u001b[0m     \u001b[39m# This aliases json.JSONDecodeError and simplejson.JSONDecodeError\u001b[39;00m\n",
      "File \u001b[0;32m/Library/Frameworks/Python.framework/Versions/3.10/lib/python3.10/json/__init__.py:346\u001b[0m, in \u001b[0;36mloads\u001b[0;34m(s, cls, object_hook, parse_float, parse_int, parse_constant, object_pairs_hook, **kw)\u001b[0m\n\u001b[1;32m    343\u001b[0m \u001b[39mif\u001b[39;00m (\u001b[39mcls\u001b[39m \u001b[39mis\u001b[39;00m \u001b[39mNone\u001b[39;00m \u001b[39mand\u001b[39;00m object_hook \u001b[39mis\u001b[39;00m \u001b[39mNone\u001b[39;00m \u001b[39mand\u001b[39;00m\n\u001b[1;32m    344\u001b[0m         parse_int \u001b[39mis\u001b[39;00m \u001b[39mNone\u001b[39;00m \u001b[39mand\u001b[39;00m parse_float \u001b[39mis\u001b[39;00m \u001b[39mNone\u001b[39;00m \u001b[39mand\u001b[39;00m\n\u001b[1;32m    345\u001b[0m         parse_constant \u001b[39mis\u001b[39;00m \u001b[39mNone\u001b[39;00m \u001b[39mand\u001b[39;00m object_pairs_hook \u001b[39mis\u001b[39;00m \u001b[39mNone\u001b[39;00m \u001b[39mand\u001b[39;00m \u001b[39mnot\u001b[39;00m kw):\n\u001b[0;32m--> 346\u001b[0m     \u001b[39mreturn\u001b[39;00m _default_decoder\u001b[39m.\u001b[39;49mdecode(s)\n\u001b[1;32m    347\u001b[0m \u001b[39mif\u001b[39;00m \u001b[39mcls\u001b[39m \u001b[39mis\u001b[39;00m \u001b[39mNone\u001b[39;00m:\n",
      "File \u001b[0;32m/Library/Frameworks/Python.framework/Versions/3.10/lib/python3.10/json/decoder.py:337\u001b[0m, in \u001b[0;36mJSONDecoder.decode\u001b[0;34m(self, s, _w)\u001b[0m\n\u001b[1;32m    333\u001b[0m \u001b[39m\u001b[39m\u001b[39m\"\"\"Return the Python representation of ``s`` (a ``str`` instance\u001b[39;00m\n\u001b[1;32m    334\u001b[0m \u001b[39mcontaining a JSON document).\u001b[39;00m\n\u001b[1;32m    335\u001b[0m \n\u001b[1;32m    336\u001b[0m \u001b[39m\"\"\"\u001b[39;00m\n\u001b[0;32m--> 337\u001b[0m obj, end \u001b[39m=\u001b[39m \u001b[39mself\u001b[39;49m\u001b[39m.\u001b[39;49mraw_decode(s, idx\u001b[39m=\u001b[39;49m_w(s, \u001b[39m0\u001b[39;49m)\u001b[39m.\u001b[39;49mend())\n\u001b[1;32m    338\u001b[0m end \u001b[39m=\u001b[39m _w(s, end)\u001b[39m.\u001b[39mend()\n",
      "File \u001b[0;32m/Library/Frameworks/Python.framework/Versions/3.10/lib/python3.10/json/decoder.py:355\u001b[0m, in \u001b[0;36mJSONDecoder.raw_decode\u001b[0;34m(self, s, idx)\u001b[0m\n\u001b[1;32m    354\u001b[0m \u001b[39mexcept\u001b[39;00m \u001b[39mStopIteration\u001b[39;00m \u001b[39mas\u001b[39;00m err:\n\u001b[0;32m--> 355\u001b[0m     \u001b[39mraise\u001b[39;00m JSONDecodeError(\u001b[39m\"\u001b[39m\u001b[39mExpecting value\u001b[39m\u001b[39m\"\u001b[39m, s, err\u001b[39m.\u001b[39mvalue) \u001b[39mfrom\u001b[39;00m \u001b[39mNone\u001b[39;00m\n\u001b[1;32m    356\u001b[0m \u001b[39mreturn\u001b[39;00m obj, end\n",
      "\u001b[0;31mJSONDecodeError\u001b[0m: Expecting value: line 1 column 1 (char 0)",
      "\nDuring handling of the above exception, another exception occurred:\n",
      "\u001b[0;31mJSONDecodeError\u001b[0m                           Traceback (most recent call last)",
      "Cell \u001b[0;32mIn[40], line 1\u001b[0m\n\u001b[0;32m----> 1\u001b[0m first\u001b[39m.\u001b[39;49mjson()\n",
      "File \u001b[0;32m~/Desktop/Annotune-v2/project/lib/python3.10/site-packages/requests/models.py:975\u001b[0m, in \u001b[0;36mResponse.json\u001b[0;34m(self, **kwargs)\u001b[0m\n\u001b[1;32m    971\u001b[0m     \u001b[39mreturn\u001b[39;00m complexjson\u001b[39m.\u001b[39mloads(\u001b[39mself\u001b[39m\u001b[39m.\u001b[39mtext, \u001b[39m*\u001b[39m\u001b[39m*\u001b[39mkwargs)\n\u001b[1;32m    972\u001b[0m \u001b[39mexcept\u001b[39;00m JSONDecodeError \u001b[39mas\u001b[39;00m e:\n\u001b[1;32m    973\u001b[0m     \u001b[39m# Catch JSON-related errors and raise as requests.JSONDecodeError\u001b[39;00m\n\u001b[1;32m    974\u001b[0m     \u001b[39m# This aliases json.JSONDecodeError and simplejson.JSONDecodeError\u001b[39;00m\n\u001b[0;32m--> 975\u001b[0m     \u001b[39mraise\u001b[39;00m RequestsJSONDecodeError(e\u001b[39m.\u001b[39mmsg, e\u001b[39m.\u001b[39mdoc, e\u001b[39m.\u001b[39mpos)\n",
      "\u001b[0;31mJSONDecodeError\u001b[0m: Expecting value: line 1 column 1 (char 0)"
     ]
    }
   ],
   "source": [
    "first.json()"
   ]
  },
  {
   "cell_type": "code",
   "execution_count": 22,
   "metadata": {},
   "outputs": [
    {
     "data": {
      "text/plain": [
       "<Response [404]>"
      ]
     },
     "execution_count": 22,
     "metadata": {},
     "output_type": "execute_result"
    }
   ],
   "source": [
    "first"
   ]
  },
  {
   "cell_type": "code",
   "execution_count": 30,
   "metadata": {},
   "outputs": [],
   "source": [
    "get_topic_list = url + \"get_topic_list\" \n",
    "\n",
    "topics = requests.post(get_topic_list, json={\n",
    "                            \"user_id\": 47,\n",
    "                            }).json()"
   ]
  },
  {
   "cell_type": "code",
   "execution_count": 31,
   "metadata": {},
   "outputs": [
    {
     "data": {
      "text/plain": [
       "{'cluster': {'0': [0, 1, 2, 3, 4, 5],\n",
       "  '1': [6, 7, 8, 9, 10],\n",
       "  '2': [11, 12, 13, 14, 15],\n",
       "  '3': [16, 17, 18, 19, 20],\n",
       "  '4': [21, 22, 23, 24, 25],\n",
       "  '5': [26, 27, 28, 29, 30]},\n",
       " 'code': 200,\n",
       " 'document_id': 25,\n",
       " 'keywords': {'0': ['trade', 'country', 'export', 'foreign', 'cuba'],\n",
       "  '1': ['budget', 'congress', 'agency', 'congressional', 'president'],\n",
       "  '2': ['social', 'benefit', 'individual', 'disability', 'insurance'],\n",
       "  '3': ['school', 'education', 'student', 'grant', 'secondary'],\n",
       "  '4': ['land', 'convey', 'conveyance', 'parcel', 'interior'],\n",
       "  '5': ['disease', 'research', 'prevention', 'human', 'cancer']},\n",
       " 'msg': 'SUCCESS'}"
      ]
     },
     "execution_count": 31,
     "metadata": {},
     "output_type": "execute_result"
    }
   ],
   "source": [
    "topics"
   ]
  },
  {
   "cell_type": "code",
   "execution_count": 32,
   "metadata": {},
   "outputs": [],
   "source": [
    "def get_recommended_topic(recommended, topics, all_texts):\n",
    "    \"\"\"\n",
    "    Retrieve recommended topic and associated documents from a topic-clustered dataset.\n",
    "\n",
    "    Parameters:\n",
    "    - recommended (str): The recommended topic to retrieve.\n",
    "    - topics (dict): A dictionary containing clustered topics and associated document lists.\n",
    "    - all_texts (dict): A dictionary containing text data where keys are document IDs and values are corresponding documents.\n",
    "\n",
    "    Returns:\n",
    "    - recommended_topic (str): The recommended topic.\n",
    "    - results (dict): A dictionary containing text data for documents associated with the recommended topic.\n",
    "\n",
    "    This function takes a 'recommended' topic, a 'topics' dictionary that includes clustered topics and associated document lists,\n",
    "    and a 'all_texts' dictionary containing document text data. It retrieves text data for documents associated with the specified\n",
    "    recommended topic.\n",
    "\n",
    "    The function returns 'recommended_topic,' the name of the recommended topic, and 'results,' a dictionary where each key represents\n",
    "    a the document IDs of documents within the recommended topic, and the associated value is a sub-dictionary containing document IDs and their corresponding texts.\n",
    "    \"\"\"\n",
    "\n",
    "    results = {}\n",
    "    for a in topics[\"cluster\"].keys():\n",
    "        sub_results = {}\n",
    "        for b in topics[\"cluster\"][a]:\n",
    "            if b == recommended:\n",
    "                for c in topics[\"cluster\"][a]:\n",
    "                    sub_results[str(c)] = all_texts[\"text\"][str(c)]\n",
    "                results[a] = sub_results\n",
    "                recommended_topic = a\n",
    "    return recommended_topic,  results\n"
   ]
  },
  {
   "cell_type": "code",
   "execution_count": 33,
   "metadata": {},
   "outputs": [],
   "source": [
    "recommended = int(topics[\"document_id\"])"
   ]
  },
  {
   "cell_type": "code",
   "execution_count": 19,
   "metadata": {},
   "outputs": [],
   "source": [
    "import json"
   ]
  },
  {
   "cell_type": "code",
   "execution_count": 21,
   "metadata": {},
   "outputs": [],
   "source": [
    "all_texts = json.load(open(\"/Users/danielstephens/Desktop/Annotune-v2/annotune/annotator/bills_preprocessed.json\"))\n",
    "\n",
    "document_id=5\n",
    "user_id=47"
   ]
  },
  {
   "cell_type": "code",
   "execution_count": 24,
   "metadata": {},
   "outputs": [
    {
     "ename": "AttributeError",
     "evalue": "'dict' object has no attribute 'text'",
     "output_type": "error",
     "traceback": [
      "\u001b[0;31m---------------------------------------------------------------------------\u001b[0m",
      "\u001b[0;31mAttributeError\u001b[0m                            Traceback (most recent call last)",
      "Cell \u001b[0;32mIn[24], line 1\u001b[0m\n\u001b[0;32m----> 1\u001b[0m all_texts\u001b[39m.\u001b[39;49mtext\n",
      "\u001b[0;31mAttributeError\u001b[0m: 'dict' object has no attribute 'text'"
     ]
    }
   ],
   "source": [
    "all_texts[\"text\"]"
   ]
  },
  {
   "cell_type": "code",
   "execution_count": 43,
   "metadata": {},
   "outputs": [],
   "source": [
    "get_document_information = url + \"get_document_information\"\n",
    "response = requests.post(get_document_information, json={ \"document_id\": document_id,\n",
    "                                                        \"user_id\":user_id\n",
    "                                                         }).json()\n",
    "text = all_texts[\"text\"][str(document_id)]"
   ]
  },
  {
   "cell_type": "code",
   "execution_count": 47,
   "metadata": {},
   "outputs": [
    {
     "data": {
      "text/plain": [
       "{'code': 200,\n",
       " 'confident': False,\n",
       " 'description': 'test description 22',\n",
       " 'llm_labels': ['ecudation', 'agriculture', 'energy', 'labor'],\n",
       " 'msg': 'SUCCESS',\n",
       " 'topic_order': {'0': ['trade', 'country', 'export', 'foreign', 'cuba'],\n",
       "  '1': ['budget', 'congress', 'agency', 'congressional', 'president'],\n",
       "  '2': ['social', 'benefit', 'individual', 'disability', 'insurance'],\n",
       "  '3': ['school', 'education', 'student', 'grant', 'secondary'],\n",
       "  '4': ['land', 'convey', 'conveyance', 'parcel', 'interior'],\n",
       "  '5': ['disease', 'research', 'prevention', 'human', 'cancer']}}"
      ]
     },
     "execution_count": 47,
     "metadata": {},
     "output_type": "execute_result"
    }
   ],
   "source": [
    "response"
   ]
  },
  {
   "cell_type": "code",
   "execution_count": null,
   "metadata": {},
   "outputs": [],
   "source": [
    "recommended = int(topics[\"document_id\"])"
   ]
  },
  {
   "cell_type": "code",
   "execution_count": 35,
   "metadata": {},
   "outputs": [],
   "source": [
    "import json\n",
    "all_texts = json.load(open(\"/Users/danielstephens/Desktop/Annotune-v2/annotune/annotator/congressional_bill_train.json\"))"
   ]
  },
  {
   "cell_type": "code",
   "execution_count": 36,
   "metadata": {},
   "outputs": [],
   "source": [
    "recommended_topic, recommended_block = get_recommended_topic(recommended, topics, all_texts)"
   ]
  },
  {
   "cell_type": "code",
   "execution_count": 38,
   "metadata": {},
   "outputs": [
    {
     "data": {
      "text/plain": [
       "{'4': {'21': 'To amend and reauthorize the Endangered Species Act of 1973 to provide greater results conserving and recovering listed species, and for other purposes.',\n",
       "  '22': 'To authorize attendance of civilians at schools conducted by the Department of Defense and the Department of the Treasury, and for other purposes',\n",
       "  '23': 'A bill to amend section 11(p) (1) of the Federal Water Pollution Control Act to provide enforcement provisions with respect to the obligations of certain vessels using the navigable waters of the United States, and for other purposes',\n",
       "  '24': 'A bill to strengthen democratic processes within labor organizations and to protect union members against unjustifiable pay losses in strikes through providing for impartial secret strike ballots.',\n",
       "  '25': 'A bill to amend the Federal law relating to the care and treatment of animals, to broaden the categories of persons regulated under such law, to assure that birds in pet stores and zoos are protected, and to increased protection for animals in transit'}}"
      ]
     },
     "execution_count": 38,
     "metadata": {},
     "output_type": "execute_result"
    }
   ],
   "source": [
    "recommended_block"
   ]
  },
  {
   "cell_type": "code",
   "execution_count": 21,
   "metadata": {},
   "outputs": [],
   "source": [
    "data = {\n",
    "    \"document_id\":int(24),\n",
    "    \"label\":str(\"null label\"),\n",
    "    \"user_id\": int(47),\n",
    "    \"response_time\": \"2:03:0\",\n",
    "    \"description\": \"Describe the thingy\"\n",
    "}"
   ]
  },
  {
   "cell_type": "code",
   "execution_count": 27,
   "metadata": {},
   "outputs": [],
   "source": [
    "going = requests.post(url+\"/recommend_document\", json=data)"
   ]
  },
  {
   "cell_type": "code",
   "execution_count": 29,
   "metadata": {},
   "outputs": [
    {
     "data": {
      "text/plain": [
       "{'code': 200, 'document_id': 5, 'msg': 'SUCCESS'}"
      ]
     },
     "execution_count": 29,
     "metadata": {},
     "output_type": "execute_result"
    }
   ],
   "source": [
    "going.json()"
   ]
  },
  {
   "cell_type": "code",
   "execution_count": null,
   "metadata": {},
   "outputs": [],
   "source": []
  },
  {
   "cell_type": "code",
   "execution_count": null,
   "metadata": {},
   "outputs": [],
   "source": [
    "def add_data(label, user_id):\n",
    "    import os\n",
    "    file_path=\"/Users/danielstephens/Desktop/Annotune-v2/annotune/annotator/static/user_responses.json\"\n"
   ]
  },
  {
   "cell_type": "code",
   "execution_count": 83,
   "metadata": {},
   "outputs": [],
   "source": [
    "import os\n",
    "file_path=\"/Users/danielstephens/Desktop/Annotune-v2/annotune/annotator/static/users.json\"\n",
    "if not os.path.exists(file_path):\n",
    "    with open(file_path, 'w') as file:\n",
    "        json.dump([], file)  # Initialize the file with an empty list\n",
    "\n",
    "# Read the existing data\n",
    "with open(file_path, 'r') as file:\n",
    "    existing_data = json.load(file)"
   ]
  },
  {
   "cell_type": "code",
   "execution_count": 87,
   "metadata": {},
   "outputs": [
    {
     "data": {
      "text/plain": [
       "list"
      ]
     },
     "execution_count": 87,
     "metadata": {},
     "output_type": "execute_result"
    }
   ],
   "source": [
    "existing_data['danystevo@gmail.com'][\"label\"]"
   ]
  },
  {
   "cell_type": "code",
   "execution_count": 105,
   "metadata": {},
   "outputs": [],
   "source": [
    "def append_to_json_file(email, label, document_id, times):\n",
    "    import os\n",
    "    file_path=\"/Users/danielstephens/Desktop/Annotune-v2/annotune/annotator/static/users.json\"\n",
    "    try:\n",
    "    # Ensure the file exists\n",
    "        if not os.path.exists(file_path):\n",
    "            with open(file_path, 'w') as file:\n",
    "                json.dump([], file)  # Initialize the file with an empty list\n",
    "\n",
    "        # Read the existing data\n",
    "        with open(file_path, 'r') as file:\n",
    "            existing_data = json.load(file)\n",
    "\n",
    "        labe = {\n",
    "            \"labels\":label,\n",
    "            \"time\": times,\n",
    "            \"document_id\": document_id\n",
    "        }\n",
    "\n",
    "        \n",
    "\n",
    "        \n",
    "\n",
    "        # Append the new data\n",
    "        existing_data[email][\"label\"].append(label)\n",
    "        existing_data[email][\"document_id\"].append(document_id)\n",
    "        existing_data[email][\"labels\"].append(labe)\n",
    "\n",
    "        # Write the updated data back to the file\n",
    "        with open(file_path, 'w') as file:\n",
    "            json.dump(existing_data, file, indent=4)\n",
    "\n",
    "    except Exception as e:\n",
    "        print(f\"An error occurred while appending to the JSON file: {e}\")"
   ]
  },
  {
   "cell_type": "code",
   "execution_count": 107,
   "metadata": {},
   "outputs": [],
   "source": [
    "import datetime"
   ]
  },
  {
   "cell_type": "code",
   "execution_count": 108,
   "metadata": {},
   "outputs": [
    {
     "name": "stdout",
     "output_type": "stream",
     "text": [
      "An error occurred while appending to the JSON file: Object of type datetime is not JSON serializable\n"
     ]
    }
   ],
   "source": [
    "email = \"danystevo@gmail.com\"\n",
    "label = \"first_label\"\n",
    "document_id = 5\n",
    "times = datetime.datetime.now()\n",
    "# Example usage\n",
    "append_to_json_file(email, label, document_id, times)"
   ]
  },
  {
   "cell_type": "code",
   "execution_count": 20,
   "metadata": {},
   "outputs": [
    {
     "data": {
      "text/plain": [
       "'28/05/24 11:03:29'"
      ]
     },
     "execution_count": 20,
     "metadata": {},
     "output_type": "execute_result"
    }
   ],
   "source": [
    "import datetime\n",
    "datetime.datetime.now().strftime(\"%d/%m/%y %H:%M:%S\")\n"
   ]
  },
  {
   "cell_type": "code",
   "execution_count": 118,
   "metadata": {},
   "outputs": [],
   "source": [
    "labelled_documents = list([\n",
    "            \"5\",\n",
    "            \"22\",\n",
    "            \"1\",\n",
    "            \"9\",\n",
    "            \"22\",\n",
    "            \"12\",\n",
    "            \"12\",\n",
    "            \"30\",\n",
    "            \"1\",\n",
    "            \"21\",\n",
    "            \"16\",\n",
    "            \"9\",\n",
    "            \"28\"\n",
    "        ])"
   ]
  },
  {
   "cell_type": "code",
   "execution_count": 120,
   "metadata": {},
   "outputs": [],
   "source": [
    "labels = list([\n",
    "            \"first_label\",\n",
    "            \"ecudation\",\n",
    "            \"agriculture\",\n",
    "            \"energy\",\n",
    "            \"manual\",\n",
    "            \"energy\",\n",
    "            \"ecudation\",\n",
    "            \"labor\",\n",
    "            \"energy\",\n",
    "            \"agriculture\",\n",
    "            \"labor\",\n",
    "            \"ecudation\",\n",
    "            \"labor\"\n",
    "        ])"
   ]
  },
  {
   "cell_type": "code",
   "execution_count": 122,
   "metadata": {},
   "outputs": [
    {
     "name": "stdout",
     "output_type": "stream",
     "text": [
      "('5', 'first_label')\n",
      "('22', 'ecudation')\n",
      "('1', 'agriculture')\n",
      "('9', 'energy')\n",
      "('22', 'manual')\n",
      "('12', 'energy')\n",
      "('12', 'ecudation')\n",
      "('30', 'labor')\n",
      "('1', 'energy')\n",
      "('21', 'agriculture')\n",
      "('16', 'labor')\n",
      "('9', 'ecudation')\n",
      "('28', 'labor')\n"
     ]
    }
   ],
   "source": [
    "for a in zip(labelled_documents, labels):\n",
    "    print(a)"
   ]
  },
  {
   "cell_type": "code",
   "execution_count": 123,
   "metadata": {},
   "outputs": [
    {
     "data": {
      "text/plain": [
       "'28'"
      ]
     },
     "execution_count": 123,
     "metadata": {},
     "output_type": "execute_result"
    }
   ],
   "source": [
    "labelled_documents[-1]"
   ]
  },
  {
   "cell_type": "code",
   "execution_count": 119,
   "metadata": {},
   "outputs": [
    {
     "data": {
      "text/plain": [
       "['5', '22', '1', '9', '22', '12', '12', '30', '1', '21', '16', '9', '28']"
      ]
     },
     "execution_count": 119,
     "metadata": {},
     "output_type": "execute_result"
    }
   ],
   "source": [
    "labelled_documents"
   ]
  },
  {
   "cell_type": "code",
   "execution_count": null,
   "metadata": {},
   "outputs": [],
   "source": [
    "# Function to get the index of the current document ID\n",
    "\n",
    "def skip_document(index):\n",
    "    labelled_documents = labelled_documents\n",
    "    document_id = labelled_documents[-1-index]\n",
    "    \n",
    "    \n",
    "\n"
   ]
  },
  {
   "cell_type": "code",
   "execution_count": 131,
   "metadata": {},
   "outputs": [
    {
     "data": {
      "text/plain": [
       "'http://127.0.0.1:1234/display'"
      ]
     },
     "execution_count": 131,
     "metadata": {},
     "output_type": "execute_result"
    }
   ],
   "source": [
    "urls = url+\"display\"\n",
    "urls"
   ]
  },
  {
   "cell_type": "code",
   "execution_count": 135,
   "metadata": {},
   "outputs": [
    {
     "data": {
      "text/plain": [
       "<Response [415]>"
      ]
     },
     "execution_count": 135,
     "metadata": {},
     "output_type": "execute_result"
    }
   ],
   "source": [
    "data = requests.post(url+\"/display\")\n",
    "data"
   ]
  },
  {
   "cell_type": "code",
   "execution_count": 53,
   "metadata": {},
   "outputs": [],
   "source": [
    "import requests\n",
    "get_topic_list = url + \"//get_topic_list\" \n",
    "        \n",
    "topics = requests.post(get_topic_list, json={\n",
    "                        \"user_id\": 0\n",
    "                        }).json()\n",
    "\n",
    "recommended = int(topics[\"document_id\"])\n",
    "\n",
    "keywords = topics[\"keywords\"]\n",
    "clusters = {}\n",
    "selected = []\n",
    "selected_topics = list(topics[\"cluster\"].keys())[:10]\n",
    "for t in selected_topics:\n",
    "    clusters[t]=topics[\"cluster\"][t][:10]\n",
    "    selected.append(topics[\"cluster\"][t][:10])"
   ]
  },
  {
   "cell_type": "code",
   "execution_count": 54,
   "metadata": {},
   "outputs": [
    {
     "data": {
      "text/plain": [
       "{'0': [5201, 5202, 6534, 5654, 6645, 6816, 11330, 13939, 5558, 703],\n",
       " '1': [1284, 10726, 8523, 7614, 7775, 7907, 12805, 14214, 14253, 9950],\n",
       " '10': [9331, 5735, 11923, 8262, 11653, 14684, 10121, 14761, 3056, 7262],\n",
       " '11': [2283, 7347, 8046, 5170, 14664, 1481, 10638, 5466, 4985, 7656],\n",
       " '12': [1822, 4835, 2277, 8190, 9447, 1434, 10165, 10791, 10825, 6388],\n",
       " '13': [4759, 823, 9693, 11883, 14621, 1836, 10663, 5290, 8960, 12697],\n",
       " '14': [2727, 3041, 1863, 7174, 1155, 13709, 5786, 10244, 3089, 14503],\n",
       " '15': [13721, 14457, 4136, 6248, 3481, 3717, 10450, 1690, 4519, 6162],\n",
       " '16': [7019, 8754, 1076, 10502, 10831, 8826, 12624, 6308, 1204, 11365],\n",
       " '17': [11293, 577, 4117, 672, 11667, 12197, 14586, 5193, 7349, 13286]}"
      ]
     },
     "execution_count": 54,
     "metadata": {},
     "output_type": "execute_result"
    }
   ],
   "source": [
    "clusters"
   ]
  },
  {
   "cell_type": "code",
   "execution_count": 29,
   "metadata": {},
   "outputs": [],
   "source": [
    "def flatten_extend(matrix):\n",
    "    flat_list = []\n",
    "    for row in matrix:\n",
    "         flat_list.extend(row)\n",
    "    return flat_list"
   ]
  },
  {
   "cell_type": "code",
   "execution_count": 37,
   "metadata": {},
   "outputs": [],
   "source": [
    "selects = flatten_extend(selected)"
   ]
  },
  {
   "cell_type": "code",
   "execution_count": 25,
   "metadata": {},
   "outputs": [],
   "source": [
    "all_keyboard_texts = []\n",
    "keywords={}\n",
    "for a in selected_topics:\n",
    "    keywords[a] = topics[\"keywords\"][a][:10]"
   ]
  },
  {
   "cell_type": "code",
   "execution_count": 45,
   "metadata": {},
   "outputs": [],
   "source": [
    "\n",
    "all_text= {}\n",
    "for b in selects:\n",
    "    try:\n",
    "        all_text[b]=all_texts[\"text\"][str(b)]\n",
    "    except:\n",
    "        continue"
   ]
  },
  {
   "cell_type": "code",
   "execution_count": 79,
   "metadata": {},
   "outputs": [],
   "source": [
    "def truncated_data(topics, all_texts ):\n",
    "    clusters = {}\n",
    "    selected = []\n",
    "    \n",
    "    selected_topics = list(topics[\"cluster\"].keys())[:10]\n",
    "    for t in selected_topics:\n",
    "        clusters[t]=topics[\"cluster\"][t][:10]\n",
    "        selected.append(topics[\"cluster\"][t][:10])\n",
    "\n",
    "    selects = flatten_extend(selected)\n",
    "\n",
    "    keywords={}\n",
    "    for a in selected_topics:\n",
    "        keywords[a] = topics[\"keywords\"][a][:10]\n",
    "\n",
    "    all_text= {}\n",
    "    for b in selects:\n",
    "        try:\n",
    "            all_text[b]=all_texts[\"text\"][str(b)]\n",
    "        except:\n",
    "            continue\n",
    "    recommended = list(all_text.keys())[0]\n",
    "    return all_text, keywords, recommended, clusters\n",
    "    "
   ]
  },
  {
   "cell_type": "code",
   "execution_count": 80,
   "metadata": {},
   "outputs": [],
   "source": [
    "a, b, c, d = truncated_data(topics, all_texts)"
   ]
  },
  {
   "cell_type": "code",
   "execution_count": 76,
   "metadata": {},
   "outputs": [
    {
     "data": {
      "text/plain": [
       "5201"
      ]
     },
     "execution_count": 76,
     "metadata": {},
     "output_type": "execute_result"
    }
   ],
   "source": [
    "list(a.keys())[0]"
   ]
  },
  {
   "cell_type": "code",
   "execution_count": 82,
   "metadata": {},
   "outputs": [],
   "source": [
    "get_document_information = url + \"get_document_information\"\n",
    "response = requests.post(get_document_information, json={ \"document_id\": document_id,\"user_id\":0\n",
    "                                                         }).json()\n",
    "       "
   ]
  },
  {
   "cell_type": "code",
   "execution_count": 7,
   "metadata": {},
   "outputs": [
    {
     "data": {
      "text/plain": [
       "{'classifier_cluster': {}, 'topic_description': {}}"
      ]
     },
     "execution_count": 7,
     "metadata": {},
     "output_type": "execute_result"
    }
   ],
   "source": [
    "response.json()"
   ]
  },
  {
   "cell_type": "code",
   "execution_count": 21,
   "metadata": {},
   "outputs": [],
   "source": [
    "import requests\n",
    "url =  \"http://127.0.0.1:1234/\"\n",
    "get_document_information = url + \"display\"\n",
    "response = requests.post(get_document_information, json={\"user_id\":0})\n",
    "   "
   ]
  },
  {
   "cell_type": "code",
   "execution_count": 22,
   "metadata": {},
   "outputs": [
    {
     "data": {
      "text/plain": [
       "{'classifier_cluster': {}, 'topic_description': {}}"
      ]
     },
     "execution_count": 22,
     "metadata": {},
     "output_type": "execute_result"
    }
   ],
   "source": [
    "response.json()"
   ]
  },
  {
   "cell_type": "code",
   "execution_count": null,
   "metadata": {},
   "outputs": [],
   "source": [
    "with open(path_save_json.as_posix(), \"w\", encoding=\"utf-8\") as json_file:\n",
    "            json.dump(document_json, json_file, indent=2, ensure_ascii=False)"
   ]
  }
 ],
 "metadata": {
  "kernelspec": {
   "display_name": "project",
   "language": "python",
   "name": "python3"
  },
  "language_info": {
   "codemirror_mode": {
    "name": "ipython",
    "version": 3
   },
   "file_extension": ".py",
   "mimetype": "text/x-python",
   "name": "python",
   "nbconvert_exporter": "python",
   "pygments_lexer": "ipython3",
   "version": "3.10.11"
  },
  "orig_nbformat": 4
 },
 "nbformat": 4,
 "nbformat_minor": 2
}
